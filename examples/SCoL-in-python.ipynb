{
 "cells": [
  {
   "cell_type": "markdown",
   "metadata": {},
   "source": [
    "# Working with SCoL in Python\n",
    "\n",
    "To successfully install SCoL it is necessary to install the `rpy2` package as seen in topic **Setup of `rpy2`** in [Working with ECoL in Python](./ECoL-in-python.ipynb)"
   ]
  },
  {
   "cell_type": "markdown",
   "metadata": {},
   "source": [
    "## Setup of `SCoL`"
   ]
  },
  {
   "cell_type": "markdown",
   "metadata": {},
   "source": [
    "### Setting up CRAN Mirror"
   ]
  },
  {
   "cell_type": "code",
   "execution_count": 1,
   "metadata": {},
   "outputs": [
    {
     "data": {
      "text/plain": [
       "<rpy2.rinterface_lib.sexp.NULLType object at 0x7fcec8b09840> [RTYPES.NILSXP]"
      ]
     },
     "execution_count": 1,
     "metadata": {},
     "output_type": "execute_result"
    }
   ],
   "source": [
    "# import rpy2's package module\n",
    "import rpy2.robjects.packages as rpackages\n",
    "\n",
    "# import R's utility package\n",
    "utils = rpackages.importr('utils')\n",
    "\n",
    "# select a mirror for R packages\n",
    "utils.chooseCRANmirror(ind=1)  # select the first mirror in the list"
   ]
  },
  {
   "cell_type": "markdown",
   "metadata": {},
   "source": [
    "### Installing `SCoL` package"
   ]
  },
  {
   "cell_type": "code",
   "execution_count": 2,
   "metadata": {},
   "outputs": [],
   "source": [
    "if not rpackages.isinstalled('devtools'):\n",
    "    utils.install_packages('devtools')\n",
    "\n",
    "devtools = rpackages.importr('devtools')"
   ]
  },
  {
   "cell_type": "code",
   "execution_count": 3,
   "metadata": {},
   "outputs": [
    {
     "name": "stderr",
     "output_type": "stream",
     "text": [
      "R[write to console]: Skipping install of 'SCoL' from a github remote, the SHA1 (5a6a7d63) has not changed since last install.\n",
      "  Use `force = TRUE` to force installation\n",
      "\n"
     ]
    },
    {
     "data": {
      "text/html": [
       "\n",
       "        <span>StrVector with 1 elements.</span>\n",
       "        <table>\n",
       "        <tbody>\n",
       "          <tr>\n",
       "          \n",
       "            <td>\n",
       "            'SCoL'\n",
       "            </td>\n",
       "          \n",
       "          </tr>\n",
       "        </tbody>\n",
       "        </table>\n",
       "        "
      ],
      "text/plain": [
       "<rpy2.robjects.vectors.StrVector object at 0x7fced9b3c5c0> [RTYPES.STRSXP]\n",
       "R classes: ('character',)\n",
       "['SCoL']"
      ]
     },
     "execution_count": 3,
     "metadata": {},
     "output_type": "execute_result"
    }
   ],
   "source": [
    "devtools.install_github(\"lpfgarcia/SCoL\")"
   ]
  },
  {
   "cell_type": "code",
   "execution_count": 4,
   "metadata": {},
   "outputs": [],
   "source": [
    "scol = rpackages.importr(\"SCoL\")\n"
   ]
  },
  {
   "cell_type": "code",
   "execution_count": 10,
   "metadata": {},
   "outputs": [
    {
     "data": {
      "text/plain": [
       "['__name__',\n",
       " '__doc__',\n",
       " '__package__',\n",
       " '__loader__',\n",
       " '__spec__',\n",
       " '_env',\n",
       " '__rname__',\n",
       " '_translation',\n",
       " '_rpy2r',\n",
       " '_exported_names',\n",
       " '_symbol_r2python',\n",
       " '_symbol_resolve',\n",
       " '___NAMESPACE___',\n",
       " '___S3MethodsTable___',\n",
       " '_packageName',\n",
       " 'ClsCoef',\n",
       " 'Density',\n",
       " 'F1',\n",
       " 'F1v',\n",
       " 'F2',\n",
       " 'F3',\n",
       " 'F4',\n",
       " 'Hubs',\n",
       " 'imputation',\n",
       " 'L1',\n",
       " 'L2',\n",
       " 'L3',\n",
       " 'ls_simulated',\n",
       " 'ls_simulated_multiples',\n",
       " 'LSC',\n",
       " 'N1',\n",
       " 'N2',\n",
       " 'N3',\n",
       " 'N4',\n",
       " 'simulated',\n",
       " 'simulated_default',\n",
       " 'simulated_formula',\n",
       " 'T1',\n",
       " '__version__',\n",
       " '__rdata__']"
      ]
     },
     "execution_count": 10,
     "metadata": {},
     "output_type": "execute_result"
    }
   ],
   "source": [
    "scol.__dir__()"
   ]
  }
 ],
 "metadata": {
  "interpreter": {
   "hash": "af49ab430f4cc176bd1bb06e00637eff35d9dd49bcc1f90e5fe6006735e8b21b"
  },
  "kernelspec": {
   "display_name": "Python 3.9.7 ('venvCBDGEN': venv)",
   "language": "python",
   "name": "python3"
  },
  "language_info": {
   "codemirror_mode": {
    "name": "ipython",
    "version": 3
   },
   "file_extension": ".py",
   "mimetype": "text/x-python",
   "name": "python",
   "nbconvert_exporter": "python",
   "pygments_lexer": "ipython3",
   "version": "3.9.7"
  },
  "orig_nbformat": 4
 },
 "nbformat": 4,
 "nbformat_minor": 2
}
