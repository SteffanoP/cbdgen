{
 "cells": [
  {
   "cell_type": "markdown",
   "metadata": {},
   "source": [
    "# Measuring Complexity in Python with `pymfe`\n",
    "\n",
    "`Pymfe` is a set of meta-features, including Complexity Data, all made for Python, as a Python Package. A few details on What is `pymfe` can be seen here: <https://github.com/ealcobaca/pymfe>.\n",
    "\n",
    "In our case, we want to efficiently extract complexity measures, in this notebook we will try to extract a few complexity data values from a generic data set. In general, we will extract main complexities, such as linearity separation, feature-based, class balance and neighborhood information."
   ]
  },
  {
   "cell_type": "markdown",
   "metadata": {},
   "source": [
    "## Installation\n",
    "\n",
    "This is how you install `pymfe` in your environment, make sure that all of the required packages is installed successfully."
   ]
  },
  {
   "cell_type": "code",
   "execution_count": null,
   "metadata": {},
   "outputs": [],
   "source": [
    "%pip install -U pymfe"
   ]
  },
  {
   "cell_type": "markdown",
   "metadata": {},
   "source": [
    "## Importing our Data set"
   ]
  },
  {
   "cell_type": "code",
   "execution_count": 5,
   "metadata": {},
   "outputs": [],
   "source": [
    "import pandas as pd\n",
    "\n",
    "df = pd.read_csv('seeds_dataset.csv')"
   ]
  },
  {
   "cell_type": "markdown",
   "metadata": {},
   "source": [
    "## Splitting Data from Target\n",
    "\n",
    "Make sure to split your data from the corresponding target feature column. This is a necessary step because we need to explicit our Data using `mfe.fit()` in the next step."
   ]
  },
  {
   "cell_type": "code",
   "execution_count": 6,
   "metadata": {},
   "outputs": [],
   "source": [
    "target = df.pop('label').values\n",
    "data = df.values"
   ]
  },
  {
   "cell_type": "markdown",
   "metadata": {},
   "source": [
    "## Measuring Complexity"
   ]
  },
  {
   "cell_type": "markdown",
   "metadata": {},
   "source": [
    "### Importing `pymfe`"
   ]
  },
  {
   "cell_type": "code",
   "execution_count": 14,
   "metadata": {},
   "outputs": [],
   "source": [
    "from pymfe.mfe import MFE\n"
   ]
  },
  {
   "cell_type": "markdown",
   "metadata": {},
   "source": [
    "### A general Approach\n",
    "\n",
    "A general approach would extract all complexities measures presented in a data set, as we can see in our example"
   ]
  },
  {
   "cell_type": "code",
   "execution_count": 16,
   "metadata": {},
   "outputs": [
    {
     "name": "stdout",
     "output_type": "stream",
     "text": [
      "c1                                                             0.9999999999999998\n",
      "c2                                                                            0.0\n",
      "cls_coef                                                       0.8800452059292428\n",
      "density                                                        0.9117338801549328\n",
      "f1.mean                                                        0.3182269381394485\n",
      "f1.sd                                                         0.21095891573659348\n",
      "f1v.mean                                                      0.04198678143236121\n",
      "f1v.sd                                                       0.021182150211258875\n",
      "f2.mean                                                      0.002206548501187337\n",
      "f2.sd                                                       0.0028772370809719634\n",
      "f3.mean                                                       0.21904761904761905\n",
      "f3.sd                                                         0.22916589362887552\n",
      "f4.mean                                                                       0.0\n",
      "f4.sd                                                                         0.0\n",
      "hubs.mean                                                      0.9647907983062255\n",
      "hubs.sd                                                       0.05949007976399732\n",
      "l1.mean                                                      0.008658653761802823\n",
      "l1.sd                                                        0.010745659003257964\n",
      "l2.mean                                                      0.014285714285714271\n",
      "l2.sd                                                         0.01428571428571429\n",
      "l3.mean                                                       0.02619047619047617\n",
      "l3.sd                                                          0.0229610732404594\n",
      "lsc                                                            0.8875736961451247\n",
      "n1                                                            0.12380952380952381\n",
      "n2.mean                                                          0.29285083346924\n",
      "n2.sd                                                         0.11633351946945383\n",
      "n3.mean                                                       0.05714285714285714\n",
      "n3.sd                                                          0.2326700202988444\n",
      "n4.mean                                                        0.0380952380952381\n",
      "n4.sd                                                          0.1918836132395035\n",
      "t1.mean                                                       0.03225806451612903\n",
      "t1.sd                                                         0.09373987969498125\n",
      "t2                                                            0.03333333333333333\n",
      "t3                                                           0.009523809523809525\n",
      "t4                                                             0.2857142857142857\n"
     ]
    }
   ],
   "source": [
    "mfe = MFE(groups=['complexity'])\n",
    "mfe.fit(data, target)\n",
    "ft = mfe.extract()\n",
    "print(\"\\n\".join(\"{:50} {:30}\".format(x, y) for x, y in zip(ft[0], ft[1])))"
   ]
  },
  {
   "cell_type": "markdown",
   "metadata": {},
   "source": [
    "### Extracting a set of complexity data\n",
    "\n",
    "What if we wanted to extract a set of complexity data, for example: take one measure of feature-based information, one measure of linearity, one measure of class balance and one measure of neighborhood information. For this notebook, we'll take into account the following set of measures: `[C2, L2, N1, F2]`"
   ]
  },
  {
   "cell_type": "code",
   "execution_count": 17,
   "metadata": {},
   "outputs": [],
   "source": [
    "complexity_measures = ['C2', 'L2', 'N1', 'F2']"
   ]
  },
  {
   "cell_type": "markdown",
   "metadata": {},
   "source": [
    "Now, let us setup our MFE object to restrict the extraction to our complexity measures."
   ]
  },
  {
   "cell_type": "code",
   "execution_count": 20,
   "metadata": {},
   "outputs": [],
   "source": [
    "mfe = MFE(groups=['complexity'], \n",
    "          features=complexity_measures,\n",
    "          summary=['mean'])"
   ]
  },
  {
   "cell_type": "markdown",
   "metadata": {},
   "source": [
    "Finally, The extraction of the desired complexity data."
   ]
  },
  {
   "cell_type": "code",
   "execution_count": 24,
   "metadata": {},
   "outputs": [
    {
     "name": "stdout",
     "output_type": "stream",
     "text": [
      "c2                                                                            0.0\n",
      "f2.mean                                                      0.002206548501187337\n",
      "l2.mean                                                      0.014285714285714271\n",
      "n1                                                            0.12380952380952381\n"
     ]
    }
   ],
   "source": [
    "mfe.fit(data, target)\n",
    "ft = mfe.extract()\n",
    "print(\"\\n\".join(\"{:50} {:30}\".format(x, y) for x, y in zip(ft[0], ft[1])))\n"
   ]
  },
  {
   "cell_type": "markdown",
   "metadata": {},
   "source": [
    "For us, the implementation on `cbdgen` may be similar to the previous extraction, which is great, because `cbdgen` is ready to this approach without much work. The question is: Is it more efficient than other packages? Is it better than `ECoL`?"
   ]
  }
 ],
 "metadata": {
  "interpreter": {
   "hash": "af49ab430f4cc176bd1bb06e00637eff35d9dd49bcc1f90e5fe6006735e8b21b"
  },
  "kernelspec": {
   "display_name": "Python 3.9.13 ('venvCBDGEN': venv)",
   "language": "python",
   "name": "python3"
  },
  "language_info": {
   "codemirror_mode": {
    "name": "ipython",
    "version": 3
   },
   "file_extension": ".py",
   "mimetype": "text/x-python",
   "name": "python",
   "nbconvert_exporter": "python",
   "pygments_lexer": "ipython3",
   "version": "3.9.13"
  },
  "orig_nbformat": 4
 },
 "nbformat": 4,
 "nbformat_minor": 2
}
