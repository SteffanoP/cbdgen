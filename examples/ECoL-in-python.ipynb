{
 "cells": [
  {
   "cell_type": "markdown",
   "source": [
    "# Working with ECoL in Python\r\n",
    "\r\n",
    "To do so, We're going to need a package that can translate packages written in R to Python. Here we use a package called `rpy2`."
   ],
   "metadata": {}
  },
  {
   "cell_type": "markdown",
   "source": [
    "## Setup of `rpy2`"
   ],
   "metadata": {}
  },
  {
   "cell_type": "markdown",
   "source": [
    "### Installing `rpy2`"
   ],
   "metadata": {}
  },
  {
   "cell_type": "code",
   "execution_count": 36,
   "source": [
    "import sys\r\n",
    "\r\n",
    "!{sys.executable} -m pip install rpy2"
   ],
   "outputs": [
    {
     "output_type": "stream",
     "name": "stdout",
     "text": [
      "Requirement already satisfied: rpy2 in c:\\users\\steff\\appdata\\local\\programs\\python\\python39\\lib\\site-packages (3.4.5)\n",
      "Requirement already satisfied: cffi>=1.10.0 in c:\\users\\steff\\appdata\\local\\programs\\python\\python39\\lib\\site-packages (from rpy2) (1.14.6)\n",
      "Requirement already satisfied: jinja2 in c:\\users\\steff\\appdata\\local\\programs\\python\\python39\\lib\\site-packages (from rpy2) (3.0.1)\n",
      "Requirement already satisfied: pytz in c:\\users\\steff\\appdata\\local\\programs\\python\\python39\\lib\\site-packages (from rpy2) (2021.1)\n",
      "Requirement already satisfied: tzlocal in c:\\users\\steff\\appdata\\local\\programs\\python\\python39\\lib\\site-packages (from rpy2) (3.0)\n",
      "Requirement already satisfied: pycparser in c:\\users\\steff\\appdata\\local\\programs\\python\\python39\\lib\\site-packages (from cffi>=1.10.0->rpy2) (2.20)\n",
      "Requirement already satisfied: MarkupSafe>=2.0 in c:\\users\\steff\\appdata\\local\\programs\\python\\python39\\lib\\site-packages (from jinja2->rpy2) (2.0.1)\n",
      "Requirement already satisfied: tzdata in c:\\users\\steff\\appdata\\local\\programs\\python\\python39\\lib\\site-packages (from tzlocal->rpy2) (2021.1)\n"
     ]
    }
   ],
   "metadata": {}
  },
  {
   "cell_type": "markdown",
   "source": [
    "### Importing `rpy2`"
   ],
   "metadata": {}
  },
  {
   "cell_type": "code",
   "execution_count": 37,
   "source": [
    "import rpy2\r\n",
    "print(rpy2.__version__)"
   ],
   "outputs": [
    {
     "output_type": "stream",
     "name": "stdout",
     "text": [
      "3.4.5\n"
     ]
    }
   ],
   "metadata": {}
  },
  {
   "cell_type": "markdown",
   "source": [
    "### Verifying `rpy2.situation`"
   ],
   "metadata": {}
  },
  {
   "cell_type": "code",
   "execution_count": 38,
   "source": [
    "!{sys.executable} -m rpy2.situation\r\n"
   ],
   "outputs": [
    {
     "output_type": "stream",
     "name": "stdout",
     "text": [
      "rpy2 version:\n",
      "3.4.5\n",
      "Python version:\n",
      "3.9.7 (tags/v3.9.7:1016ef3, Aug 30 2021, 20:19:38) [MSC v.1929 64 bit (AMD64)]\n",
      "Looking for R's HOME:\n",
      "    Environment variable R_HOME: C:/Program Files/R/R-4.1.1\n",
      "    InstallPath in the registry: C:\\Program Files\\R\\R-4.1.1\n",
      "    Environment variable R_USER: C:\\Users\\steff\\Documents\n",
      "    Environment variable R_LIBS_USER: C:\\Users\\steff\\Documents/R/win-library/4.1\n",
      "R version:\n",
      "    In the PATH: \n",
      "    Loading R library from rpy2: OK\n",
      "Additional directories to load R packages from:\n",
      "None\n",
      "C extension compilation:\n",
      "    Warning: Unable to get R compilation flags.\n"
     ]
    },
    {
     "output_type": "stream",
     "name": "stderr",
     "text": [
      "R version 4.1.1 (2021-08-10) -- \"Kick Things\"\n",
      "Copyright (C) 2021 The R Foundation for Statistical Computing\n",
      "Platform: x86_64-w64-mingw32/x64 (64-bit)\n",
      "\n",
      "R is free software and comes with ABSOLUTELY NO WARRANTY.\n",
      "You are welcome to redistribute it under the terms of the\n",
      "GNU General Public License versions 2 or 3.\n",
      "For more information about these matters see\n",
      "https://www.gnu.org/licenses/.\n",
      "\n",
      "'sh' n�o � reconhecido como um comando interno\n",
      "ou externo, um programa oper�vel ou um arquivo em lotes.\n"
     ]
    }
   ],
   "metadata": {}
  },
  {
   "cell_type": "markdown",
   "source": [
    "## Setup of `ECoL` package"
   ],
   "metadata": {}
  },
  {
   "cell_type": "markdown",
   "source": [
    "### Setting up CRAN Mirror"
   ],
   "metadata": {}
  },
  {
   "cell_type": "code",
   "execution_count": 39,
   "source": [
    "# import rpy2's package module\r\n",
    "import rpy2.robjects.packages as rpackages\r\n",
    "\r\n",
    "# import R's utility package\r\n",
    "utils = rpackages.importr('utils')\r\n",
    "\r\n",
    "# select a mirror for R packages\r\n",
    "utils.chooseCRANmirror(ind=1)  # select the first mirror in the list"
   ],
   "outputs": [
    {
     "output_type": "execute_result",
     "data": {
      "text/plain": [
       "<rpy2.rinterface_lib.sexp.NULLType object at 0x000001F6905495C0> [RTYPES.NILSXP]"
      ]
     },
     "metadata": {},
     "execution_count": 39
    }
   ],
   "metadata": {}
  },
  {
   "cell_type": "markdown",
   "source": [
    "### Installing `ECoL` package"
   ],
   "metadata": {}
  },
  {
   "cell_type": "code",
   "execution_count": 40,
   "source": [
    "utils.install_packages(\"ECoL\")"
   ],
   "outputs": [
    {
     "output_type": "stream",
     "name": "stderr",
     "text": [
      "R[write to console]: Warning:\n",
      "R[write to console]:  package 'ECoL' is in use and will not be installed\n",
      "\n"
     ]
    },
    {
     "output_type": "execute_result",
     "data": {
      "text/plain": [
       "<rpy2.rinterface_lib.sexp.NULLType object at 0x000001F6905495C0> [RTYPES.NILSXP]"
      ]
     },
     "metadata": {},
     "execution_count": 40
    }
   ],
   "metadata": {}
  },
  {
   "cell_type": "markdown",
   "source": [
    "### Import `ECoL` package"
   ],
   "metadata": {}
  },
  {
   "cell_type": "code",
   "execution_count": 41,
   "source": [
    "ecol = rpackages.importr('ECoL')"
   ],
   "outputs": [],
   "metadata": {}
  },
  {
   "cell_type": "markdown",
   "source": [
    "### Testing `ECoL`"
   ],
   "metadata": {}
  },
  {
   "cell_type": "markdown",
   "source": [
    "Creating a dataframe with pandas"
   ],
   "metadata": {}
  },
  {
   "cell_type": "code",
   "execution_count": 42,
   "source": [
    "import pandas as pd\r\n",
    "import numpy as np\r\n",
    "from sklearn.datasets import load_iris\r\n",
    "\r\n",
    "iris = load_iris()\r\n",
    "\r\n",
    "data = pd.DataFrame(data=np.c_[iris['data'], iris['target']],\r\n",
    "                     columns=iris['feature_names'] + ['target'])"
   ],
   "outputs": [],
   "metadata": {}
  },
  {
   "cell_type": "markdown",
   "source": [
    "Then we convert that pandas dataframe to a R dataframe"
   ],
   "metadata": {}
  },
  {
   "cell_type": "code",
   "execution_count": 43,
   "source": [
    "from rpy2.robjects import r, pandas2ri\r\n",
    "\r\n",
    "pandas2ri.activate()\r\n",
    "\r\n",
    "r_data = pandas2ri.py2rpy(data)"
   ],
   "outputs": [],
   "metadata": {}
  },
  {
   "cell_type": "markdown",
   "source": [
    "And now we can use `ECoL` to measure the complexity of `iris` dataset"
   ],
   "metadata": {}
  },
  {
   "cell_type": "code",
   "execution_count": 44,
   "source": [
    "from rpy2.robjects import Formula\r\n",
    "\r\n",
    "fml = Formula('target ~ .')\r\n",
    "\r\n",
    "ecol.complexity(fml, r_data)"
   ],
   "outputs": [
    {
     "output_type": "execute_result",
     "data": {
      "text/plain": [
       "array([0.77799435, 0.23444487, 0.25166667, 0.41527768, 0.20666667,\n",
       "       0.08265206, 0.06929402, 0.01160101,        nan, 0.01000491,\n",
       "       0.01400609, 0.03355705, 0.12532019, 0.11967219, 0.07268981,\n",
       "       0.015     , 0.05957061, 0.00103078, 0.00987399, 0.02666667,\n",
       "       0.01333333, 0.5       ])"
      ]
     },
     "metadata": {},
     "execution_count": 44
    }
   ],
   "metadata": {}
  },
  {
   "cell_type": "code",
   "execution_count": 45,
   "source": [
    "ecol.complexity(fml, r_data, groups=\"linearity\")"
   ],
   "outputs": [
    {
     "output_type": "execute_result",
     "data": {
      "text/plain": [
       "array([0.08265206, 0.06929402, 0.01160101,        nan, 0.00982387,\n",
       "       0.01316999])"
      ]
     },
     "metadata": {},
     "execution_count": 45
    }
   ],
   "metadata": {}
  }
 ],
 "metadata": {
  "orig_nbformat": 4,
  "language_info": {
   "name": "python",
   "version": "3.9.7",
   "mimetype": "text/x-python",
   "codemirror_mode": {
    "name": "ipython",
    "version": 3
   },
   "pygments_lexer": "ipython3",
   "nbconvert_exporter": "python",
   "file_extension": ".py"
  },
  "kernelspec": {
   "name": "python3",
   "display_name": "Python 3.9.7 64-bit"
  },
  "interpreter": {
   "hash": "2c5f03de6ee59ce9f63367e78df20c5415415059de67714af8ca32452988d21d"
  }
 },
 "nbformat": 4,
 "nbformat_minor": 2
}