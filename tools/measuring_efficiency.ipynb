{
 "cells": [
  {
   "cell_type": "markdown",
   "metadata": {},
   "source": [
    "# Measuring efficiency"
   ]
  },
  {
   "cell_type": "markdown",
   "metadata": {},
   "source": [
    "## Import"
   ]
  },
  {
   "cell_type": "code",
   "execution_count": null,
   "metadata": {},
   "outputs": [],
   "source": [
    "import pandas as pd"
   ]
  },
  {
   "cell_type": "code",
   "execution_count": null,
   "metadata": {},
   "outputs": [],
   "source": [
    "L2_TARGET = 0.01160101\n",
    "CLSCOEF_TARGET = 0.267977\n",
    "T2_TARGET = 0.02666667"
   ]
  },
  {
   "cell_type": "markdown",
   "metadata": {},
   "source": [
    "## Reading our dataset"
   ]
  },
  {
   "cell_type": "code",
   "execution_count": null,
   "metadata": {},
   "outputs": [],
   "source": [
    "FILENAME = \"NGEN=10000-CLSCOEF-T2\""
   ]
  },
  {
   "cell_type": "code",
   "execution_count": null,
   "metadata": {},
   "outputs": [],
   "source": [
    "df = pd.read_csv(FILENAME + \".csv\")\n",
    "df = df.drop(\"Unnamed: 0\", axis=1)"
   ]
  },
  {
   "cell_type": "code",
   "execution_count": null,
   "metadata": {},
   "outputs": [],
   "source": [
    "df.head"
   ]
  },
  {
   "cell_type": "markdown",
   "metadata": {},
   "source": [
    "## Measuring Complexity"
   ]
  },
  {
   "cell_type": "markdown",
   "metadata": {},
   "source": [
    "### Setting up `ECOL`"
   ]
  },
  {
   "cell_type": "code",
   "execution_count": null,
   "metadata": {},
   "outputs": [],
   "source": [
    "# import rpy2's package module\n",
    "import rpy2.robjects.packages as rpackages\n",
    "\n",
    "# import R's utility package\n",
    "utils = rpackages.importr('utils')\n",
    "\n",
    "# select a mirror for R packages\n",
    "utils.chooseCRANmirror(ind=1)  # select the first mirror in the list\n",
    "\n",
    "# Install the ECoL package\n",
    "utils.install_packages(\"ECoL\")\n",
    "\n",
    "# Import Ecol\n",
    "ecol = rpackages.importr('ECoL')\n"
   ]
  },
  {
   "cell_type": "markdown",
   "metadata": {},
   "source": [
    "### Measuring our complexity"
   ]
  },
  {
   "cell_type": "code",
   "execution_count": null,
   "metadata": {},
   "outputs": [],
   "source": [
    "from rpy2.robjects import pandas2ri\n",
    "from rpy2.robjects import Formula\n",
    "\n",
    "pandas2ri.activate()\n",
    "\n",
    "# Convert to r_df\n",
    "r_df = pandas2ri.py2rpy(df)\n",
    "fml = Formula('label ~ .')"
   ]
  },
  {
   "cell_type": "markdown",
   "metadata": {},
   "source": [
    "#### L2 - T2"
   ]
  },
  {
   "cell_type": "code",
   "execution_count": null,
   "metadata": {},
   "outputs": [],
   "source": [
    "l2Vector = ecol.linearity_formula(fml, df, measures=\"L2\", summary=\"return\")\n",
    "l2 = l2Vector.rx(1)\n",
    "l2 = l2[0][0]\n",
    "\n",
    "t2Vector = ecol.dimensionality_formula(\n",
    "    fml, df, measures=\"T2\", summary=\"return\")\n",
    "t2 = t2Vector[0]\n",
    "\n",
    "data = {'Target': [L2_TARGET,T2_TARGET], 'Result': [l2,t2]}"
   ]
  },
  {
   "cell_type": "markdown",
   "metadata": {},
   "source": [
    "#### L2 - CLSCOEF"
   ]
  },
  {
   "cell_type": "code",
   "execution_count": null,
   "metadata": {},
   "outputs": [],
   "source": [
    "l2Vector = ecol.linearity_formula(fml, df, measures=\"L2\", summary=\"return\")\n",
    "l2 = l2Vector.rx(1)\n",
    "l2 = l2[0][0]\n",
    "\n",
    "clscoefVector = ecol.network_formula(\n",
    "    fml, df, measures=\"ClsCoef\", summary=\"return\")\n",
    "clscoef = clscoefVector.rx(1)\n",
    "clscoef = clscoef[0][0]\n",
    "\n",
    "data = {'Target': [L2_TARGET, CLSCOEF_TARGET,], 'Result': [l2, clscoef]}\n"
   ]
  },
  {
   "cell_type": "markdown",
   "metadata": {},
   "source": [
    "#### CLSCOEF - T2"
   ]
  },
  {
   "cell_type": "code",
   "execution_count": null,
   "metadata": {},
   "outputs": [],
   "source": [
    "clscoefVector = ecol.network_formula(\n",
    "    fml, df, measures=\"ClsCoef\", summary=\"return\")\n",
    "clscoef = clscoefVector.rx(1)\n",
    "clscoef = clscoef[0][0]\n",
    "\n",
    "t2Vector = ecol.dimensionality_formula(\n",
    "    fml, df, measures=\"T2\", summary=\"return\")\n",
    "t2 = t2Vector[0]\n",
    "\n",
    "data = {'Target': [CLSCOEF_TARGET,T2_TARGET], 'Result': [clscoef, t2]}"
   ]
  },
  {
   "cell_type": "markdown",
   "metadata": {},
   "source": [
    "#### L2 - clscoef - T2"
   ]
  },
  {
   "cell_type": "code",
   "execution_count": null,
   "metadata": {},
   "outputs": [],
   "source": [
    "l2Vector = ecol.linearity_formula(fml, df, measures=\"L2\", summary=\"return\")\n",
    "l2 = l2Vector.rx(1)\n",
    "l2 = l2[0][0]\n",
    "\n",
    "clscoefVector = ecol.network_formula(fml, df, measures=\"ClsCoef\", summary=\"return\")\n",
    "clscoef = clscoefVector.rx(1)\n",
    "clscoef = clscoef[0][0]\n",
    "\n",
    "t2Vector = ecol.dimensionality_formula(\n",
    "    fml, df, measures=\"T2\", summary=\"return\")\n",
    "t2 = t2Vector[0]\n",
    "\n",
    "data = {'Target':[L2_TARGET,CLSCOEF_TARGET,T2_TARGET],'Result':[l2,clscoef,t2]}"
   ]
  },
  {
   "cell_type": "markdown",
   "metadata": {},
   "source": [
    "#### "
   ]
  },
  {
   "cell_type": "markdown",
   "metadata": {},
   "source": [
    "## Taking a look at the efficiency"
   ]
  },
  {
   "cell_type": "code",
   "execution_count": null,
   "metadata": {},
   "outputs": [],
   "source": [
    "df_plot = pd.DataFrame(data, index=['L2','T2'])"
   ]
  },
  {
   "cell_type": "code",
   "execution_count": null,
   "metadata": {},
   "outputs": [],
   "source": [
    "df_plot = pd.DataFrame(data, index=['L2','CLSCOEF'])"
   ]
  },
  {
   "cell_type": "code",
   "execution_count": null,
   "metadata": {},
   "outputs": [],
   "source": [
    "df_plot = pd.DataFrame(data, index=['CLSCOEF','T2'])"
   ]
  },
  {
   "cell_type": "code",
   "execution_count": null,
   "metadata": {},
   "outputs": [],
   "source": [
    "df_plot = pd.DataFrame(data, index=['L2','CLSCOEF','T2'])"
   ]
  },
  {
   "cell_type": "code",
   "execution_count": null,
   "metadata": {},
   "outputs": [],
   "source": [
    "from matplotlib import pyplot as plt\n",
    "import matplotlib\n",
    "\n",
    "matplotlib.style.use('Solarize_Light2')\n",
    "df_plot.plot.bar(figsize=(25, 13), rot=0)\n",
    "plt.title(\"Eficiência da Geração de Dataset Sintético\", fontsize=20)\n",
    "plt.xlabel(\"Medida de Complexidade\", fontsize=16)\n",
    "plt.ylabel(\"Valor de complexidade\", fontsize=16)\n",
    "plt.xticks(fontsize=14)\n",
    "plt.yticks(fontsize=14)"
   ]
  }
 ],
 "metadata": {
  "interpreter": {
   "hash": "53a0b41e08c83f4b18f20689027ad3151e79fa80f44811ce273f54c76dac114d"
  },
  "kernelspec": {
   "display_name": "Python 3.9.5 64-bit ('venvCBDGEN': venv)",
   "name": "python3"
  },
  "language_info": {
   "codemirror_mode": {
    "name": "ipython",
    "version": 3
   },
   "file_extension": ".py",
   "mimetype": "text/x-python",
   "name": "python",
   "nbconvert_exporter": "python",
   "pygments_lexer": "ipython3",
   "version": "3.9.5"
  },
  "orig_nbformat": 4
 },
 "nbformat": 4,
 "nbformat_minor": 2
}
