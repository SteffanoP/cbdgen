{
 "cells": [
  {
   "cell_type": "markdown",
   "metadata": {},
   "source": [
    "# Measuring efficiency from multiple datasets"
   ]
  },
  {
   "cell_type": "markdown",
   "metadata": {},
   "source": [
    "## Importing"
   ]
  },
  {
   "cell_type": "code",
   "execution_count": 3,
   "metadata": {},
   "outputs": [],
   "source": [
    "import pandas as pd"
   ]
  },
  {
   "cell_type": "code",
   "execution_count": 4,
   "metadata": {},
   "outputs": [],
   "source": [
    "from rpy2.robjects import pandas2ri\n",
    "from rpy2.robjects import Formula\n"
   ]
  },
  {
   "cell_type": "markdown",
   "metadata": {},
   "source": [
    "### Importing `ECoL`"
   ]
  },
  {
   "cell_type": "code",
   "execution_count": 5,
   "metadata": {},
   "outputs": [],
   "source": [
    "# import rpy2's package module\n",
    "from rpy2.robjects import packages as rpackages\n",
    "\n",
    "# Import Ecol\n",
    "ecol = rpackages.importr('ECoL')"
   ]
  },
  {
   "cell_type": "markdown",
   "metadata": {},
   "source": [
    "## Setting up our targets"
   ]
  },
  {
   "cell_type": "code",
   "execution_count": 6,
   "metadata": {},
   "outputs": [],
   "source": [
    "C2_TARGET = 0\n",
    "L2_TARGET = 0.01160101\n",
    "N1_TARGET = 0.10666666666666667\n",
    "F2_TARGET = 0.006381766381766379"
   ]
  },
  {
   "cell_type": "code",
   "execution_count": 7,
   "metadata": {},
   "outputs": [],
   "source": [
    "filename_csv = 'Exasens_filtered.csv'\n",
    "target_df = pd.read_csv(filename_csv)\n",
    "TARGET_COLUMN = 'Diagnosis'\n"
   ]
  },
  {
   "cell_type": "code",
   "execution_count": 8,
   "metadata": {},
   "outputs": [],
   "source": [
    "pandas2ri.activate()\n",
    "\n",
    "# target_df = target_df.drop(\"Unnamed: 0\", axis=1)\n",
    "fml = Formula(TARGET_COLUMN + \" ~ .\")\n",
    "\n",
    "target_df = pandas2ri.py2rpy(target_df)\n",
    "\n",
    "c2Vector = ecol.balance_formula(\n",
    "    fml, target_df, measures=\"C2\", summary=\"return\")\n",
    "l2Vector = ecol.linearity_formula(\n",
    "    fml, target_df, measures=\"L2\", summary=\"return\")\n",
    "n1Vector = ecol.neighborhood_formula(fml, target_df, measures=\"N1\")\n",
    "f2Vector = ecol.overlapping_formula(fml, target_df, measures=\"F2\")\n",
    "\n",
    "C2_TARGET = c2Vector.rx(1)[0][0]\n",
    "L2_TARGET = l2Vector.rx(1)[0][0]\n",
    "N1_TARGET = n1Vector.rx(1)[0][0]\n",
    "F2_TARGET = f2Vector.rx(1)[0][0]\n"
   ]
  },
  {
   "cell_type": "code",
   "execution_count": 9,
   "metadata": {},
   "outputs": [
    {
     "name": "stdout",
     "output_type": "stream",
     "text": [
      "C2 = 0.1428571428571428\n",
      "L2 = 0.08261003008566184\n",
      "N1 = 0.49\n",
      "F2 = 0.00786055493695772\n"
     ]
    }
   ],
   "source": [
    "print(f\"C2 = {C2_TARGET}\")\n",
    "print(f\"L2 = {L2_TARGET}\")\n",
    "print(f\"N1 = {N1_TARGET}\")\n",
    "print(f\"F2 = {F2_TARGET}\")"
   ]
  },
  {
   "cell_type": "markdown",
   "metadata": {},
   "source": [
    "## Reading our datasets"
   ]
  },
  {
   "cell_type": "code",
   "execution_count": 10,
   "metadata": {},
   "outputs": [],
   "source": [
    "QUANTITIES_OF_DATASETS = 6"
   ]
  },
  {
   "cell_type": "markdown",
   "metadata": {},
   "source": [
    "### Reading each dataset"
   ]
  },
  {
   "cell_type": "code",
   "execution_count": 11,
   "metadata": {},
   "outputs": [],
   "source": [
    "v_df = []\n",
    "\n",
    "for i in range(0, QUANTITIES_OF_DATASETS):\n",
    "    filename = str(i) + \"-NGEN=20000-C2-L2-N1-F2\"\n",
    "    v_df.append(pd.read_csv(filename + \".csv\"))\n",
    "    v_df[i] = v_df[i].drop(\"Unnamed: 0\", axis=1)\n"
   ]
  },
  {
   "cell_type": "markdown",
   "metadata": {},
   "source": [
    "### Conversion to a R DataFrame"
   ]
  },
  {
   "cell_type": "code",
   "execution_count": 12,
   "metadata": {},
   "outputs": [],
   "source": [
    "pandas2ri.activate()\n",
    "\n",
    "# Convert to r_df\n",
    "r_df = []\n",
    "[r_df.append(pandas2ri.py2rpy(v_df[i]))\n",
    " for i in range(0, QUANTITIES_OF_DATASETS)]\n",
    "\n",
    "fml = Formula('label ~ .')\n"
   ]
  },
  {
   "cell_type": "markdown",
   "metadata": {},
   "source": [
    "## Measuring Complexity"
   ]
  },
  {
   "cell_type": "markdown",
   "metadata": {},
   "source": [
    "### C2 - L2 - N1 - F2 Measures"
   ]
  },
  {
   "cell_type": "code",
   "execution_count": 32,
   "metadata": {},
   "outputs": [],
   "source": [
    "data = []\n",
    "\n",
    "for df in r_df:\n",
    "    c2Vector = ecol.balance_formula(fml, df, measures=\"C2\", summary=\"return\")\n",
    "    l2Vector = ecol.linearity_formula(fml, df, measures=\"L2\", summary=\"return\")\n",
    "    n1Vector = ecol.neighborhood_formula(fml, df, measures=\"N1\")\n",
    "    f2Vector = ecol.overlapping_formula(fml, df, measures=\"F2\")\n",
    "\n",
    "    data.append([\n",
    "        c2Vector.rx(1)[0][0],\n",
    "        l2Vector.rx(1)[0][0],\n",
    "        n1Vector.rx(1)[0][0],\n",
    "        f2Vector.rx(1)[0][0]\n",
    "    ])\n"
   ]
  },
  {
   "cell_type": "code",
   "execution_count": 33,
   "metadata": {},
   "outputs": [],
   "source": [
    "results = pd.DataFrame(data, columns=['C2','L2','N1','F2'])"
   ]
  },
  {
   "cell_type": "code",
   "execution_count": 37,
   "metadata": {},
   "outputs": [
    {
     "data": {
      "text/html": [
       "<div>\n",
       "<style scoped>\n",
       "    .dataframe tbody tr th:only-of-type {\n",
       "        vertical-align: middle;\n",
       "    }\n",
       "\n",
       "    .dataframe tbody tr th {\n",
       "        vertical-align: top;\n",
       "    }\n",
       "\n",
       "    .dataframe thead th {\n",
       "        text-align: right;\n",
       "    }\n",
       "</style>\n",
       "<table border=\"1\" class=\"dataframe\">\n",
       "  <thead>\n",
       "    <tr style=\"text-align: right;\">\n",
       "      <th></th>\n",
       "      <th>C2</th>\n",
       "      <th>L2</th>\n",
       "      <th>N1</th>\n",
       "      <th>F2</th>\n",
       "    </tr>\n",
       "  </thead>\n",
       "  <tbody>\n",
       "    <tr>\n",
       "      <th>0</th>\n",
       "      <td>0.142934</td>\n",
       "      <td>0.082588</td>\n",
       "      <td>0.485</td>\n",
       "      <td>0.012724</td>\n",
       "    </tr>\n",
       "    <tr>\n",
       "      <th>1</th>\n",
       "      <td>0.148539</td>\n",
       "      <td>0.082610</td>\n",
       "      <td>0.505</td>\n",
       "      <td>0.016358</td>\n",
       "    </tr>\n",
       "    <tr>\n",
       "      <th>2</th>\n",
       "      <td>0.147341</td>\n",
       "      <td>0.082592</td>\n",
       "      <td>0.515</td>\n",
       "      <td>0.014419</td>\n",
       "    </tr>\n",
       "    <tr>\n",
       "      <th>3</th>\n",
       "      <td>0.141521</td>\n",
       "      <td>0.082399</td>\n",
       "      <td>0.505</td>\n",
       "      <td>0.010593</td>\n",
       "    </tr>\n",
       "    <tr>\n",
       "      <th>4</th>\n",
       "      <td>0.148062</td>\n",
       "      <td>0.081411</td>\n",
       "      <td>0.525</td>\n",
       "      <td>0.008252</td>\n",
       "    </tr>\n",
       "  </tbody>\n",
       "</table>\n",
       "</div>"
      ],
      "text/plain": [
       "         C2        L2     N1        F2\n",
       "0  0.142934  0.082588  0.485  0.012724\n",
       "1  0.148539  0.082610  0.505  0.016358\n",
       "2  0.147341  0.082592  0.515  0.014419\n",
       "3  0.141521  0.082399  0.505  0.010593\n",
       "4  0.148062  0.081411  0.525  0.008252"
      ]
     },
     "execution_count": 37,
     "metadata": {},
     "output_type": "execute_result"
    }
   ],
   "source": [
    "results.head()"
   ]
  },
  {
   "cell_type": "markdown",
   "metadata": {},
   "source": [
    "## Taking a look at our results"
   ]
  },
  {
   "cell_type": "code",
   "execution_count": 56,
   "metadata": {},
   "outputs": [
    {
     "data": {
      "text/plain": [
       "Text(0, 0.5, 'Complexity Values')"
      ]
     },
     "execution_count": 56,
     "metadata": {},
     "output_type": "execute_result"
    },
    {
     "data": {
      "image/png": "[encoded data removed]",
      "text/plain": [
       "<Figure size 432x288 with 1 Axes>"
      ]
     },
     "metadata": {
      "needs_background": "light"
     },
     "output_type": "display_data"
    }
   ],
   "source": [
    "import seaborn as sns\n",
    "import matplotlib.pyplot as plt\n",
    "\n",
    "ax = sns.boxplot(data=results)\n",
    "plt.xlabel(\"Complexity Measures\")\n",
    "plt.ylabel(\"Complexity Values\")"
   ]
  },
  {
   "cell_type": "code",
   "execution_count": 17,
   "metadata": {},
   "outputs": [
    {
     "data": {
      "application/vnd.plotly.v1+json": {
       "config": {
        "plotlyServerURL": "https://plot.ly"
       },
       "data": [
        {
         "boxpoints": "all",
         "name": "C2",
         "type": "box",
         "y": [
          0.14293428880246728,
          0.14853853031136866,
          0.14734142351908253,
          0.14152093530577814,
          0.1480617359368216,
          0.14616843656269662
         ]
        },
        {
         "marker": {
          "line": {
           "color": "blue",
           "width": 2
          },
          "size": 30,
          "symbol": 41
         },
         "mode": "markers",
         "name": "C2 Target",
         "type": "scatter",
         "x": [
          "C2"
         ],
         "y": [
          0.1428571428571428
         ]
        },
        {
         "boxpoints": "all",
         "name": "L2",
         "type": "box",
         "y": [
          0.08258816444324324,
          0.08261005629954561,
          0.08259201371107858,
          0.08239856304615376,
          0.08141142263777165,
          0.08252045222411078
         ]
        },
        {
         "marker": {
          "line": {
           "color": "blue",
           "width": 2
          },
          "size": 30,
          "symbol": 41
         },
         "mode": "markers",
         "name": "L2 Target",
         "type": "scatter",
         "x": [
          "L2"
         ],
         "y": [
          0.08261003008566184
         ]
        },
        {
         "boxpoints": "all",
         "name": "N1",
         "type": "box",
         "y": [
          0.485,
          0.505,
          0.515,
          0.505,
          0.525,
          0.485
         ]
        },
        {
         "marker": {
          "line": {
           "color": "blue",
           "width": 2
          },
          "size": 30,
          "symbol": 41
         },
         "mode": "markers",
         "name": "N1 Target",
         "type": "scatter",
         "x": [
          "N1"
         ],
         "y": [
          0.49
         ]
        },
        {
         "boxpoints": "all",
         "name": "F2",
         "type": "box",
         "y": [
          0.012724488563507623,
          0.016357840085464998,
          0.014418823590790546,
          0.010592603520680173,
          0.008252451752572445,
          0.007856063448347866
         ]
        },
        {
         "marker": {
          "line": {
           "color": "blue",
           "width": 2
          },
          "size": 30,
          "symbol": 41
         },
         "mode": "markers",
         "name": "F2 Target",
         "type": "scatter",
         "x": [
          "F2"
         ],
         "y": [
          0.00786055493695772
         ]
        }
       ],
       "layout": {
        "height": 650,
        "legend": {
         "title": {
          "text": "Targets"
         }
        },
        "template": {
         "data": {
          "bar": [
           {
            "error_x": {
             "color": "#2a3f5f"
            },
            "error_y": {
             "color": "#2a3f5f"
            },
            "marker": {
             "line": {
              "color": "#E5ECF6",
              "width": 0.5
             },
             "pattern": {
              "fillmode": "overlay",
              "size": 10,
              "solidity": 0.2
             }
            },
            "type": "bar"
           }
          ],
          "barpolar": [
           {
            "marker": {
             "line": {
              "color": "#E5ECF6",
              "width": 0.5
             },
             "pattern": {
              "fillmode": "overlay",
              "size": 10,
              "solidity": 0.2
             }
            },
            "type": "barpolar"
           }
          ],
          "carpet": [
           {
            "aaxis": {
             "endlinecolor": "#2a3f5f",
             "gridcolor": "white",
             "linecolor": "white",
             "minorgridcolor": "white",
             "startlinecolor": "#2a3f5f"
            },
            "baxis": {
             "endlinecolor": "#2a3f5f",
             "gridcolor": "white",
             "linecolor": "white",
             "minorgridcolor": "white",
             "startlinecolor": "#2a3f5f"
            },
            "type": "carpet"
           }
          ],
          "choropleth": [
           {
            "colorbar": {
             "outlinewidth": 0,
             "ticks": ""
            },
            "type": "choropleth"
           }
          ],
          "contour": [
           {
            "colorbar": {
             "outlinewidth": 0,
             "ticks": ""
            },
            "colorscale": [
             [
              0,
              "#0d0887"
             ],
             [
              0.1111111111111111,
              "#46039f"
             ],
             [
              0.2222222222222222,
              "#7201a8"
             ],
             [
              0.3333333333333333,
              "#9c179e"
             ],
             [
              0.4444444444444444,
              "#bd3786"
             ],
             [
              0.5555555555555556,
              "#d8576b"
             ],
             [
              0.6666666666666666,
              "#ed7953"
             ],
             [
              0.7777777777777778,
              "#fb9f3a"
             ],
             [
              0.8888888888888888,
              "#fdca26"
             ],
             [
              1,
              "#f0f921"
             ]
            ],
            "type": "contour"
           }
          ],
          "contourcarpet": [
           {
            "colorbar": {
             "outlinewidth": 0,
             "ticks": ""
            },
            "type": "contourcarpet"
           }
          ],
          "heatmap": [
           {
            "colorbar": {
             "outlinewidth": 0,
             "ticks": ""
            },
            "colorscale": [
             [
              0,
              "#0d0887"
             ],
             [
              0.1111111111111111,
              "#46039f"
             ],
             [
              0.2222222222222222,
              "#7201a8"
             ],
             [
              0.3333333333333333,
              "#9c179e"
             ],
             [
              0.4444444444444444,
              "#bd3786"
             ],
             [
              0.5555555555555556,
              "#d8576b"
             ],
             [
              0.6666666666666666,
              "#ed7953"
             ],
             [
              0.7777777777777778,
              "#fb9f3a"
             ],
             [
              0.8888888888888888,
              "#fdca26"
             ],
             [
              1,
              "#f0f921"
             ]
            ],
            "type": "heatmap"
           }
          ],
          "heatmapgl": [
           {
            "colorbar": {
             "outlinewidth": 0,
             "ticks": ""
            },
            "colorscale": [
             [
              0,
              "#0d0887"
             ],
             [
              0.1111111111111111,
              "#46039f"
             ],
             [
              0.2222222222222222,
              "#7201a8"
             ],
             [
              0.3333333333333333,
              "#9c179e"
             ],
             [
              0.4444444444444444,
              "#bd3786"
             ],
             [
              0.5555555555555556,
              "#d8576b"
             ],
             [
              0.6666666666666666,
              "#ed7953"
             ],
             [
              0.7777777777777778,
              "#fb9f3a"
             ],
             [
              0.8888888888888888,
              "#fdca26"
             ],
             [
              1,
              "#f0f921"
             ]
            ],
            "type": "heatmapgl"
           }
          ],
          "histogram": [
           {
            "marker": {
             "pattern": {
              "fillmode": "overlay",
              "size": 10,
              "solidity": 0.2
             }
            },
            "type": "histogram"
           }
          ],
          "histogram2d": [
           {
            "colorbar": {
             "outlinewidth": 0,
             "ticks": ""
            },
            "colorscale": [
             [
              0,
              "#0d0887"
             ],
             [
              0.1111111111111111,
              "#46039f"
             ],
             [
              0.2222222222222222,
              "#7201a8"
             ],
             [
              0.3333333333333333,
              "#9c179e"
             ],
             [
              0.4444444444444444,
              "#bd3786"
             ],
             [
              0.5555555555555556,
              "#d8576b"
             ],
             [
              0.6666666666666666,
              "#ed7953"
             ],
             [
              0.7777777777777778,
              "#fb9f3a"
             ],
             [
              0.8888888888888888,
              "#fdca26"
             ],
             [
              1,
              "#f0f921"
             ]
            ],
            "type": "histogram2d"
           }
          ],
          "histogram2dcontour": [
           {
            "colorbar": {
             "outlinewidth": 0,
             "ticks": ""
            },
            "colorscale": [
             [
              0,
              "#0d0887"
             ],
             [
              0.1111111111111111,
              "#46039f"
             ],
             [
              0.2222222222222222,
              "#7201a8"
             ],
             [
              0.3333333333333333,
              "#9c179e"
             ],
             [
              0.4444444444444444,
              "#bd3786"
             ],
             [
              0.5555555555555556,
              "#d8576b"
             ],
             [
              0.6666666666666666,
              "#ed7953"
             ],
             [
              0.7777777777777778,
              "#fb9f3a"
             ],
             [
              0.8888888888888888,
              "#fdca26"
             ],
             [
              1,
              "#f0f921"
             ]
            ],
            "type": "histogram2dcontour"
           }
          ],
          "mesh3d": [
           {
            "colorbar": {
             "outlinewidth": 0,
             "ticks": ""
            },
            "type": "mesh3d"
           }
          ],
          "parcoords": [
           {
            "line": {
             "colorbar": {
              "outlinewidth": 0,
              "ticks": ""
             }
            },
            "type": "parcoords"
           }
          ],
          "pie": [
           {
            "automargin": true,
            "type": "pie"
           }
          ],
          "scatter": [
           {
            "marker": {
             "colorbar": {
              "outlinewidth": 0,
              "ticks": ""
             }
            },
            "type": "scatter"
           }
          ],
          "scatter3d": [
           {
            "line": {
             "colorbar": {
              "outlinewidth": 0,
              "ticks": ""
             }
            },
            "marker": {
             "colorbar": {
              "outlinewidth": 0,
              "ticks": ""
             }
            },
            "type": "scatter3d"
           }
          ],
          "scattercarpet": [
           {
            "marker": {
             "colorbar": {
              "outlinewidth": 0,
              "ticks": ""
             }
            },
            "type": "scattercarpet"
           }
          ],
          "scattergeo": [
           {
            "marker": {
             "colorbar": {
              "outlinewidth": 0,
              "ticks": ""
             }
            },
            "type": "scattergeo"
           }
          ],
          "scattergl": [
           {
            "marker": {
             "colorbar": {
              "outlinewidth": 0,
              "ticks": ""
             }
            },
            "type": "scattergl"
           }
          ],
          "scattermapbox": [
           {
            "marker": {
             "colorbar": {
              "outlinewidth": 0,
              "ticks": ""
             }
            },
            "type": "scattermapbox"
           }
          ],
          "scatterpolar": [
           {
            "marker": {
             "colorbar": {
              "outlinewidth": 0,
              "ticks": ""
             }
            },
            "type": "scatterpolar"
           }
          ],
          "scatterpolargl": [
           {
            "marker": {
             "colorbar": {
              "outlinewidth": 0,
              "ticks": ""
             }
            },
            "type": "scatterpolargl"
           }
          ],
          "scatterternary": [
           {
            "marker": {
             "colorbar": {
              "outlinewidth": 0,
              "ticks": ""
             }
            },
            "type": "scatterternary"
           }
          ],
          "surface": [
           {
            "colorbar": {
             "outlinewidth": 0,
             "ticks": ""
            },
            "colorscale": [
             [
              0,
              "#0d0887"
             ],
             [
              0.1111111111111111,
              "#46039f"
             ],
             [
              0.2222222222222222,
              "#7201a8"
             ],
             [
              0.3333333333333333,
              "#9c179e"
             ],
             [
              0.4444444444444444,
              "#bd3786"
             ],
             [
              0.5555555555555556,
              "#d8576b"
             ],
             [
              0.6666666666666666,
              "#ed7953"
             ],
             [
              0.7777777777777778,
              "#fb9f3a"
             ],
             [
              0.8888888888888888,
              "#fdca26"
             ],
             [
              1,
              "#f0f921"
             ]
            ],
            "type": "surface"
           }
          ],
          "table": [
           {
            "cells": {
             "fill": {
              "color": "#EBF0F8"
             },
             "line": {
              "color": "white"
             }
            },
            "header": {
             "fill": {
              "color": "#C8D4E3"
             },
             "line": {
              "color": "white"
             }
            },
            "type": "table"
           }
          ]
         },
         "layout": {
          "annotationdefaults": {
           "arrowcolor": "#2a3f5f",
           "arrowhead": 0,
           "arrowwidth": 1
          },
          "autotypenumbers": "strict",
          "coloraxis": {
           "colorbar": {
            "outlinewidth": 0,
            "ticks": ""
           }
          },
          "colorscale": {
           "diverging": [
            [
             0,
             "#8e0152"
            ],
            [
             0.1,
             "#c51b7d"
            ],
            [
             0.2,
             "#de77ae"
            ],
            [
             0.3,
             "#f1b6da"
            ],
            [
             0.4,
             "#fde0ef"
            ],
            [
             0.5,
             "#f7f7f7"
            ],
            [
             0.6,
             "#e6f5d0"
            ],
            [
             0.7,
             "#b8e186"
            ],
            [
             0.8,
             "#7fbc41"
            ],
            [
             0.9,
             "#4d9221"
            ],
            [
             1,
             "#276419"
            ]
           ],
           "sequential": [
            [
             0,
             "#0d0887"
            ],
            [
             0.1111111111111111,
             "#46039f"
            ],
            [
             0.2222222222222222,
             "#7201a8"
            ],
            [
             0.3333333333333333,
             "#9c179e"
            ],
            [
             0.4444444444444444,
             "#bd3786"
            ],
            [
             0.5555555555555556,
             "#d8576b"
            ],
            [
             0.6666666666666666,
             "#ed7953"
            ],
            [
             0.7777777777777778,
             "#fb9f3a"
            ],
            [
             0.8888888888888888,
             "#fdca26"
            ],
            [
             1,
             "#f0f921"
            ]
           ],
           "sequentialminus": [
            [
             0,
             "#0d0887"
            ],
            [
             0.1111111111111111,
             "#46039f"
            ],
            [
             0.2222222222222222,
             "#7201a8"
            ],
            [
             0.3333333333333333,
             "#9c179e"
            ],
            [
             0.4444444444444444,
             "#bd3786"
            ],
            [
             0.5555555555555556,
             "#d8576b"
            ],
            [
             0.6666666666666666,
             "#ed7953"
            ],
            [
             0.7777777777777778,
             "#fb9f3a"
            ],
            [
             0.8888888888888888,
             "#fdca26"
            ],
            [
             1,
             "#f0f921"
            ]
           ]
          },
          "colorway": [
           "#636efa",
           "#EF553B",
           "#00cc96",
           "#ab63fa",
           "#FFA15A",
           "#19d3f3",
           "#FF6692",
           "#B6E880",
           "#FF97FF",
           "#FECB52"
          ],
          "font": {
           "color": "#2a3f5f"
          },
          "geo": {
           "bgcolor": "white",
           "lakecolor": "white",
           "landcolor": "#E5ECF6",
           "showlakes": true,
           "showland": true,
           "subunitcolor": "white"
          },
          "hoverlabel": {
           "align": "left"
          },
          "hovermode": "closest",
          "mapbox": {
           "style": "light"
          },
          "paper_bgcolor": "white",
          "plot_bgcolor": "#E5ECF6",
          "polar": {
           "angularaxis": {
            "gridcolor": "white",
            "linecolor": "white",
            "ticks": ""
           },
           "bgcolor": "#E5ECF6",
           "radialaxis": {
            "gridcolor": "white",
            "linecolor": "white",
            "ticks": ""
           }
          },
          "scene": {
           "xaxis": {
            "backgroundcolor": "#E5ECF6",
            "gridcolor": "white",
            "gridwidth": 2,
            "linecolor": "white",
            "showbackground": true,
            "ticks": "",
            "zerolinecolor": "white"
           },
           "yaxis": {
            "backgroundcolor": "#E5ECF6",
            "gridcolor": "white",
            "gridwidth": 2,
            "linecolor": "white",
            "showbackground": true,
            "ticks": "",
            "zerolinecolor": "white"
           },
           "zaxis": {
            "backgroundcolor": "#E5ECF6",
            "gridcolor": "white",
            "gridwidth": 2,
            "linecolor": "white",
            "showbackground": true,
            "ticks": "",
            "zerolinecolor": "white"
           }
          },
          "shapedefaults": {
           "line": {
            "color": "#2a3f5f"
           }
          },
          "ternary": {
           "aaxis": {
            "gridcolor": "white",
            "linecolor": "white",
            "ticks": ""
           },
           "baxis": {
            "gridcolor": "white",
            "linecolor": "white",
            "ticks": ""
           },
           "bgcolor": "#E5ECF6",
           "caxis": {
            "gridcolor": "white",
            "linecolor": "white",
            "ticks": ""
           }
          },
          "title": {
           "x": 0.05
          },
          "xaxis": {
           "automargin": true,
           "gridcolor": "white",
           "linecolor": "white",
           "ticks": "",
           "title": {
            "standoff": 15
           },
           "zerolinecolor": "white",
           "zerolinewidth": 2
          },
          "yaxis": {
           "automargin": true,
           "gridcolor": "white",
           "linecolor": "white",
           "ticks": "",
           "title": {
            "standoff": 15
           },
           "zerolinecolor": "white",
           "zerolinewidth": 2
          }
         }
        },
        "title": {
         "text": "Sythentic Dataset Generation efficiency for 20000 generations (Exasens_filtered.csv)"
        },
        "width": 1040,
        "xaxis": {
         "title": {
          "text": "Complexity Measure"
         }
        },
        "yaxis": {
         "title": {
          "text": "Complexity Value"
         }
        }
       }
      }
     },
     "metadata": {},
     "output_type": "display_data"
    }
   ],
   "source": [
    "import plotly.graph_objects as go\n",
    "\n",
    "fig = go.Figure()\n",
    "fig.add_trace(go.Box(y=c2, name=\"C2\", boxpoints=\"all\"))\n",
    "fig.add_trace(go.Scatter(x=[\"C2\"], y=[C2_TARGET], mode=\"markers\", marker_symbol=41, marker_line_color=\"blue\",\n",
    "                         marker_line_width=2, marker_size=30, name=\"C2 Target\"))\n",
    "fig.add_trace(go.Box(y=l2, name=\"L2\", boxpoints=\"all\"))\n",
    "fig.add_trace(go.Scatter(x=[\"L2\"], y=[L2_TARGET], mode=\"markers\", marker_symbol=41, marker_line_color=\"blue\",\n",
    "                         marker_line_width=2, marker_size=30, name=\"L2 Target\"))\n",
    "fig.add_trace(go.Box(y=n1, name=\"N1\", boxpoints=\"all\"))\n",
    "fig.add_trace(go.Scatter(x=[\"N1\"], y=[N1_TARGET], mode=\"markers\", marker_symbol=41, marker_line_color=\"blue\",\n",
    "                         marker_line_width=2, marker_size=30, name=\"N1 Target\"))\n",
    "fig.add_trace(go.Box(y=f2, name=\"F2\", boxpoints=\"all\"))\n",
    "fig.add_trace(go.Scatter(x=[\"F2\"], y=[F2_TARGET], mode=\"markers\", marker_symbol=41, marker_line_color=\"blue\",\n",
    "                         marker_line_width=2, marker_size=30, name=\"F2 Target\"))\n",
    "\n",
    "\n",
    "fig.update_layout(\n",
    "    title=\"Sythentic Dataset Generation efficiency for 20000 generations (\"\n",
    "    + filename_csv + ')',\n",
    "    xaxis_title=\"Complexity Measure\",\n",
    "    yaxis_title=\"Complexity Value\",\n",
    "    legend_title=\"Targets\",\n",
    "    width=1040,\n",
    "    height=650\n",
    ")\n",
    "\n",
    "fig.show()\n"
   ]
  }
 ],
 "metadata": {
  "interpreter": {
   "hash": "53a0b41e08c83f4b18f20689027ad3151e79fa80f44811ce273f54c76dac114d"
  },
  "kernelspec": {
   "display_name": "Python 3.9.5 64-bit ('venvCBDGEN': venv)",
   "language": "python",
   "name": "python3"
  },
  "language_info": {
   "codemirror_mode": {
    "name": "ipython",
    "version": 3
   },
   "file_extension": ".py",
   "mimetype": "text/x-python",
   "name": "python",
   "nbconvert_exporter": "python",
   "pygments_lexer": "ipython3",
   "version": "3.9.5"
  },
  "orig_nbformat": 4
 },
 "nbformat": 4,
 "nbformat_minor": 2
}
