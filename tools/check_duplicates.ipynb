{
 "cells": [
  {
   "cell_type": "markdown",
   "metadata": {},
   "source": [
    "# Check Duplicates\n",
    "\n",
    "Check if there's any duplicated instance in a synthetic dataset"
   ]
  },
  {
   "cell_type": "markdown",
   "metadata": {},
   "source": [
    "## Import the synthetic dataset"
   ]
  },
  {
   "cell_type": "code",
   "execution_count": 185,
   "metadata": {},
   "outputs": [],
   "source": [
    "import pandas as pd\n",
    "\n",
    "df = pd.read_csv('0-NGEN=20000-C2-L2-N1-F2.csv')\n"
   ]
  },
  {
   "cell_type": "code",
   "execution_count": 186,
   "metadata": {},
   "outputs": [],
   "source": [
    "label = 'label'\n",
    "\n",
    "df = df.drop(label, axis=1)"
   ]
  },
  {
   "cell_type": "code",
   "execution_count": 187,
   "metadata": {},
   "outputs": [
    {
     "data": {
      "text/html": [
       "<div>\n",
       "<style scoped>\n",
       "    .dataframe tbody tr th:only-of-type {\n",
       "        vertical-align: middle;\n",
       "    }\n",
       "\n",
       "    .dataframe tbody tr th {\n",
       "        vertical-align: top;\n",
       "    }\n",
       "\n",
       "    .dataframe thead th {\n",
       "        text-align: right;\n",
       "    }\n",
       "</style>\n",
       "<table border=\"1\" class=\"dataframe\">\n",
       "  <thead>\n",
       "    <tr style=\"text-align: right;\">\n",
       "      <th></th>\n",
       "      <th>Unnamed: 0</th>\n",
       "      <th>0</th>\n",
       "      <th>1</th>\n",
       "      <th>2</th>\n",
       "      <th>3</th>\n",
       "    </tr>\n",
       "  </thead>\n",
       "  <tbody>\n",
       "    <tr>\n",
       "      <th>0</th>\n",
       "      <td>0</td>\n",
       "      <td>1.452077</td>\n",
       "      <td>0.981779</td>\n",
       "      <td>0.219869</td>\n",
       "      <td>-0.541150</td>\n",
       "    </tr>\n",
       "    <tr>\n",
       "      <th>1</th>\n",
       "      <td>1</td>\n",
       "      <td>1.907864</td>\n",
       "      <td>-0.104118</td>\n",
       "      <td>0.273945</td>\n",
       "      <td>-0.106981</td>\n",
       "    </tr>\n",
       "    <tr>\n",
       "      <th>2</th>\n",
       "      <td>2</td>\n",
       "      <td>0.524053</td>\n",
       "      <td>-0.272827</td>\n",
       "      <td>0.481683</td>\n",
       "      <td>1.586719</td>\n",
       "    </tr>\n",
       "    <tr>\n",
       "      <th>3</th>\n",
       "      <td>3</td>\n",
       "      <td>0.684204</td>\n",
       "      <td>-0.180521</td>\n",
       "      <td>-0.646836</td>\n",
       "      <td>0.097577</td>\n",
       "    </tr>\n",
       "    <tr>\n",
       "      <th>4</th>\n",
       "      <td>4</td>\n",
       "      <td>-0.603446</td>\n",
       "      <td>-0.060894</td>\n",
       "      <td>-1.367980</td>\n",
       "      <td>2.238112</td>\n",
       "    </tr>\n",
       "  </tbody>\n",
       "</table>\n",
       "</div>"
      ],
      "text/plain": [
       "   Unnamed: 0         0         1         2         3\n",
       "0           0  1.452077  0.981779  0.219869 -0.541150\n",
       "1           1  1.907864 -0.104118  0.273945 -0.106981\n",
       "2           2  0.524053 -0.272827  0.481683  1.586719\n",
       "3           3  0.684204 -0.180521 -0.646836  0.097577\n",
       "4           4 -0.603446 -0.060894 -1.367980  2.238112"
      ]
     },
     "execution_count": 187,
     "metadata": {},
     "output_type": "execute_result"
    }
   ],
   "source": [
    "df.head()"
   ]
  },
  {
   "cell_type": "markdown",
   "metadata": {},
   "source": [
    "## Check if there's any row duplicated\n",
    "\n",
    "If the result is 0, there's no duplicated row. Otherwise, the value is the sum of duplicated rows."
   ]
  },
  {
   "cell_type": "code",
   "execution_count": 188,
   "metadata": {},
   "outputs": [
    {
     "data": {
      "text/plain": [
       "0"
      ]
     },
     "execution_count": 188,
     "metadata": {},
     "output_type": "execute_result"
    }
   ],
   "source": [
    "df.duplicated().sum()"
   ]
  },
  {
   "cell_type": "markdown",
   "metadata": {},
   "source": [
    "## Check columns that has repeated values"
   ]
  },
  {
   "cell_type": "code",
   "execution_count": 189,
   "metadata": {},
   "outputs": [],
   "source": [
    "for column in df:\n",
    "    if df[column].duplicated().sum() > 0:\n",
    "        print(column)\n",
    "        print(df[df[column].duplicated()].head(2))\n"
   ]
  }
 ],
 "metadata": {
  "interpreter": {
   "hash": "2f567545dbd4ba78a5f6f8986173e703cad77ddb27951dac8d6954da7bde9d81"
  },
  "kernelspec": {
   "display_name": "Python 3.9.5 64-bit ('venvCBDGEN': venv)",
   "language": "python",
   "name": "python3"
  },
  "language_info": {
   "codemirror_mode": {
    "name": "ipython",
    "version": 3
   },
   "file_extension": ".py",
   "mimetype": "text/x-python",
   "name": "python",
   "nbconvert_exporter": "python",
   "pygments_lexer": "ipython3",
   "version": "3.9.5"
  },
  "orig_nbformat": 4
 },
 "nbformat": 4,
 "nbformat_minor": 2
}
